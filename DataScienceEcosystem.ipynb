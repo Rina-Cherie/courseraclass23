{
 "cells": [
  {
   "cell_type": "markdown",
   "id": "674a08cc-2c91-4099-80fa-b4d07b977862",
   "metadata": {},
   "source": [
    "# Data Science Tools and Ecosystem"
   ]
  },
  {
   "cell_type": "markdown",
   "id": "942fa16f-1932-4822-9f6e-4529eeba821a",
   "metadata": {},
   "source": [
    "In this notebook, Data Science Tools and Ecosystem are summarized."
   ]
  },
  {
   "cell_type": "markdown",
   "id": "a3f8fd5c-4492-403f-abdd-fad98bd47d95",
   "metadata": {},
   "source": [
    "**Objectives:**\n",
    "- List popular languages for Data Science\n",
    "- Understand the open source development environments available\n",
    "- Learn about data storage and ownership, as well as types of licenses\n",
    "- Learn about libraries used by data scientists\n",
    "- Practice using Code and Markdown cells in a notebook"
   ]
  },
  {
   "cell_type": "markdown",
   "id": "d0165ce2-e642-45ae-bf83-752fac65bec5",
   "metadata": {},
   "source": [
    "Some of the popular languages that Data Scientists use are:\n",
    "1. Python\n",
    "2. R\n",
    "3. Scala"
   ]
  },
  {
   "cell_type": "markdown",
   "id": "0c23804c-ee9f-4e45-ab0b-5704b5d13524",
   "metadata": {},
   "source": [
    "Some of the commonly used libraries used by Data Scientists include:\n",
    "1. Pandas\n",
    "2. NumPy\n",
    "3. MatPlotLib\n",
    "4. Scikit-Learn\n",
    "5. TensorFlow"
   ]
  },
  {
   "cell_type": "markdown",
   "id": "50ad74ef-cad8-4737-b544-06d0c459db71",
   "metadata": {},
   "source": [
    "|Data Science Tools|\n",
    "|-----------------|\n",
    "|Jupyter|\n",
    "|Apache Spark|\n",
    "|KNIME|"
   ]
  },
  {
   "cell_type": "markdown",
   "id": "15e057fa-65d1-4717-adcd-19c7aa873e07",
   "metadata": {},
   "source": [
    "### Below are a few examples of evaluating arithmetic expressions in Python"
   ]
  },
  {
   "cell_type": "code",
   "execution_count": 3,
   "id": "e4931aed-1358-4925-9be5-1e0f9464d271",
   "metadata": {
    "tags": []
   },
   "outputs": [
    {
     "data": {
      "text/plain": [
       "17"
      ]
     },
     "execution_count": 3,
     "metadata": {},
     "output_type": "execute_result"
    }
   ],
   "source": [
    "# This a simple arithmetic expression to mutiply then add integers\n",
    "(3*4)+5"
   ]
  },
  {
   "cell_type": "code",
   "execution_count": 4,
   "id": "08ab0150-b199-4bb1-bc4a-a0c23080505f",
   "metadata": {
    "tags": []
   },
   "outputs": [
    {
     "data": {
      "text/plain": [
       "3.3333333333333335"
      ]
     },
     "execution_count": 4,
     "metadata": {},
     "output_type": "execute_result"
    }
   ],
   "source": [
    "# This will convert 200 minutes to hours by diving by 60\n",
    "200/60"
   ]
  },
  {
   "cell_type": "markdown",
   "id": "2f6c51e1-edc9-430f-8161-0dd3e237d362",
   "metadata": {},
   "source": [
    "## Author\n",
    "Rina Haverly"
   ]
  },
  {
   "cell_type": "code",
   "execution_count": null,
   "id": "90010cd7-5367-44bd-92dc-77b75f0d4f37",
   "metadata": {},
   "outputs": [],
   "source": []
  }
 ],
 "metadata": {
  "kernelspec": {
   "display_name": "Python",
   "language": "python",
   "name": "conda-env-python-py"
  },
  "language_info": {
   "codemirror_mode": {
    "name": "ipython",
    "version": 3
   },
   "file_extension": ".py",
   "mimetype": "text/x-python",
   "name": "python",
   "nbconvert_exporter": "python",
   "pygments_lexer": "ipython3",
   "version": "3.7.12"
  }
 },
 "nbformat": 4,
 "nbformat_minor": 5
}
